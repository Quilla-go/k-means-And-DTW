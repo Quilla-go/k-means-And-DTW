{
 "cells": [
  {
   "cell_type": "markdown",
   "id": "de7a19e7-bebf-402d-87d5-328e0c4926ab",
   "metadata": {
    "tags": []
   },
   "source": [
    "# 一、初始化环境"
   ]
  },
  {
   "cell_type": "code",
   "execution_count": 1,
   "id": "17a70cda-7ee3-42cc-a7d8-e309b3ec727c",
   "metadata": {},
   "outputs": [],
   "source": [
    "import pandas as pd\n",
    "import numpy as np\n",
    "import matplotlib.pylab as plt\n",
    "import math\n",
    "import random\n",
    "from pandas import read_csv as pdreadcsv"
   ]
  },
  {
   "cell_type": "code",
   "execution_count": 2,
   "id": "98dda4fd-6d8e-44fc-a9de-1bfbccab87f7",
   "metadata": {},
   "outputs": [],
   "source": [
    "plt.rcParams['font.sans-serif'] = ['SimHei']  # 用来正常显示中文标签\n",
    "plt.rcParams['axes.unicode_minus'] = False  # 用来正常显示负号\n",
    "plt.style.use('ggplot') "
   ]
  },
  {
   "cell_type": "markdown",
   "id": "dea2c3bd-76ac-4f80-982f-43f9102d75d9",
   "metadata": {},
   "source": [
    "# 二、模拟数据展示"
   ]
  },
  {
   "cell_type": "code",
   "execution_count": 3,
   "id": "5d40df96-0ff0-4a60-a0d8-a8be8c78b004",
   "metadata": {},
   "outputs": [],
   "source": [
    "# 展示一下如何使用plot绘图。这里是自己创造模拟数据。\n",
    "# 构建3个不同振幅和波长的数据（其中一个是直线）。\n",
    "def get_draw():\n",
    "    x = np.linspace(0, 50, 100)\n",
    "    ts1 = pd.Series(3.1 * np.sin(x / 1.5) + 3.5)\n",
    "    ts2 = pd.Series(2.2 * np.sin(x / 3.5 + 2.4) + 3.2)\n",
    "    ts3 = pd.Series(0.04 * x + 3.0)\n",
    "    ts1.plot()\n",
    "    ts2.plot()\n",
    "    ts3.plot()\n",
    "    plt.ylim(-2, 10)\n",
    "    plt.legend(['ts1', 'ts2', 'ts3'])\n",
    "    plt.show()\n",
    "\n",
    "# 计算欧拉距离\n",
    "    def euclid_dist(t1, t2):\n",
    "        return math.sqrt(sum((t1 - t2)**2))\n",
    "\n",
    "    print(\"ts1和ts2的欧拉距离：%f\" %euclid_dist(ts1, ts2))  # 26.959216\n",
    "    print(\"ts1和ts3的欧拉距离：%f\" %euclid_dist(ts1, ts3))  # 23.189249\n",
    "    print(\"ts2和ts3的欧拉距离：%f\" %euclid_dist(ts2, ts3))  # 17.298735"
   ]
  },
  {
   "cell_type": "code",
   "execution_count": 4,
   "id": "dd75cada-f527-41c5-9501-d8743d2cbf2b",
   "metadata": {},
   "outputs": [
    {
     "data": {
      "image/png": "[encoded data removed]",
      "text/plain": [
       "<Figure size 432x288 with 1 Axes>"
      ]
     },
     "metadata": {},
     "output_type": "display_data"
    },
    {
     "name": "stdout",
     "output_type": "stream",
     "text": [
      "ts1和ts2的欧拉距离：26.959216\n",
      "ts1和ts3的欧拉距离：23.189249\n",
      "ts2和ts3的欧拉距离：17.298735\n"
     ]
    }
   ],
   "source": [
    "get_draw()"
   ]
  },
  {
   "cell_type": "markdown",
   "id": "eac89efe-ef79-4716-8ce6-c0ba5325e0ae",
   "metadata": {},
   "source": [
    "# 三、真实数据\n",
    "\n",
    "## 1、数据提取"
   ]
  },
  {
   "cell_type": "code",
   "execution_count": 5,
   "id": "2343df93-b905-4037-a6b4-00979ce9fddc",
   "metadata": {},
   "outputs": [],
   "source": [
    "def get_wbcdata(filename):\n",
    "    df = pdreadcsv(filename)\n",
    "    workdata = df[[\"num\", \"days\", \"wbc\"]]\n",
    "\n",
    "    workdata_len = len(workdata[\"num\"])\n",
    "\n",
    "    days = [0] * (workdata_len)\n",
    "    WBC = [0] * (workdata_len)\n",
    "    Numb = [0] * (workdata_len)\n",
    "\n",
    "    for i in range(workdata_len):\n",
    "        Numb[i] = workdata[\"num\"][i]\n",
    "        days[i] = workdata[\"days\"][i]\n",
    "        WBC[i] = workdata[\"wbc\"][i]\n",
    "    s = int(len(WBC) / 30)\n",
    "\n",
    "    WBCData = np.mat(WBC).reshape(s, 30)\n",
    "    WBCData = np.array(WBCData)\n",
    "\n",
    "    return WBCData, Numb, days, WBC\n",
    "    # print(WBCData)"
   ]
  },
  {
   "cell_type": "code",
   "execution_count": 6,
   "id": "2ac09b33-995c-46ea-8595-1c5cc3330ded",
   "metadata": {},
   "outputs": [],
   "source": [
    "filename = r\"../data/20200315.csv\"\n",
    "WBCData, Numb, days, WBC = get_wbcdata(filename)"
   ]
  },
  {
   "cell_type": "code",
   "execution_count": 7,
   "id": "6b7c6353-2837-4b35-a2e7-19c1e0449e45",
   "metadata": {},
   "outputs": [
    {
     "data": {
      "text/plain": [
       "array([[4.13, 3.65, 3.16, ..., 4.13, 4.13, 4.13],\n",
       "       [4.43, 4.45, 4.47, ..., 4.43, 4.43, 4.43],\n",
       "       [5.74, 5.52, 5.29, ..., 5.74, 5.74, 5.74],\n",
       "       ...,\n",
       "       [4.43, 4.52, 4.6 , ..., 4.43, 4.43, 4.43],\n",
       "       [3.55, 3.55, 3.55, ..., 1.77, 2.24, 2.14],\n",
       "       [6.21, 6.61, 7.02, ..., 6.21, 6.21, 6.21]])"
      ]
     },
     "execution_count": 7,
     "metadata": {},
     "output_type": "execute_result"
    }
   ],
   "source": [
    "# 白细胞计数分组数据\n",
    "WBCData"
   ]
  },
  {
   "cell_type": "code",
   "execution_count": 8,
   "id": "51f9afec-e856-406e-8fe1-4c7c13cd8309",
   "metadata": {},
   "outputs": [
    {
     "data": {
      "text/plain": [
       "43"
      ]
     },
     "execution_count": 8,
     "metadata": {},
     "output_type": "execute_result"
    }
   ],
   "source": [
    "len(WBCData) # 共43个患者"
   ]
  },
  {
   "cell_type": "code",
   "execution_count": 9,
   "id": "5a227cf3-f53b-490f-b67a-0ca0a398bf23",
   "metadata": {},
   "outputs": [
    {
     "name": "stdout",
     "output_type": "stream",
     "text": [
      "<class 'list'>\n",
      "1290\n"
     ]
    }
   ],
   "source": [
    "print(type(Numb))\n",
    "print(len(Numb))  # 共1290条记录。"
   ]
  },
  {
   "cell_type": "code",
   "execution_count": 10,
   "id": "b6b6b1b1-a762-4d25-9d73-0b9ea8bd2540",
   "metadata": {},
   "outputs": [
    {
     "data": {
      "text/plain": [
       "30"
      ]
     },
     "execution_count": 10,
     "metadata": {},
     "output_type": "execute_result"
    }
   ],
   "source": [
    "# 所以每个患者共30条记录，也就是每天测白细胞技术，连续测30天。\n",
    "len(WBCData[0])"
   ]
  },
  {
   "cell_type": "code",
   "execution_count": 11,
   "id": "61c44c27-2707-49d2-b1bf-c77f8f6eb957",
   "metadata": {},
   "outputs": [
    {
     "data": {
      "text/plain": [
       "[6774, 6774, 6774, 6774, 6774, 6774, 6774, 6774, 6774, 6774]"
      ]
     },
     "execution_count": 11,
     "metadata": {},
     "output_type": "execute_result"
    }
   ],
   "source": [
    "# Numb是患者编号\n",
    "Numb[:10]"
   ]
  },
  {
   "cell_type": "code",
   "execution_count": 12,
   "id": "0e15f98b-bfc9-4c69-83d8-6fb29b416835",
   "metadata": {},
   "outputs": [
    {
     "data": {
      "text/plain": [
       "[1, 4, 7, 10, 13, 16, 19, 22, 25, 28, 1, 4, 7, 10, 13, 16, 19, 22, 25, 28]"
      ]
     },
     "execution_count": 12,
     "metadata": {},
     "output_type": "execute_result"
    }
   ],
   "source": [
    "# 时间序号，全部是是从1到30。\n",
    "days[:60:3]"
   ]
  },
  {
   "cell_type": "code",
   "execution_count": 13,
   "id": "705c874d-67e2-4240-88e2-a7b15897ad56",
   "metadata": {},
   "outputs": [
    {
     "data": {
      "text/plain": [
       "1290"
      ]
     },
     "execution_count": 13,
     "metadata": {},
     "output_type": "execute_result"
    }
   ],
   "source": [
    "# 1290条白细胞计数结果列表\n",
    "len(WBC)"
   ]
  },
  {
   "cell_type": "markdown",
   "id": "67d7ea03-2d1b-41c5-a176-d253fecb4380",
   "metadata": {},
   "source": [
    "## 2、绘制白细胞计数结果的时序图"
   ]
  },
  {
   "cell_type": "code",
   "execution_count": 22,
   "id": "c3850a7c-2e6a-45ba-95de-328c4f6fc74c",
   "metadata": {},
   "outputs": [],
   "source": [
    "def draw_wbcdata(filename):\n",
    "    WBCData, _, _, _ = get_wbcdata(filename)\n",
    "\n",
    "    for every_wbcdata in WBCData:\n",
    "        plt.plot(every_wbcdata)\n",
    "        plt.legend(['WBC'])\n",
    "    plt.show()"
   ]
  },
  {
   "cell_type": "code",
   "execution_count": 15,
   "id": "82ddba54-4773-49ec-98e9-343f9f860fd4",
   "metadata": {},
   "outputs": [
    {
     "data": {
      "image/png": "[encoded data removed]",
      "text/plain": [
       "<Figure size 432x288 with 1 Axes>"
      ]
     },
     "metadata": {},
     "output_type": "display_data"
    }
   ],
   "source": [
    "draw_wbcdata(filename)"
   ]
  },
  {
   "cell_type": "markdown",
   "id": "f99571c3-cf32-489a-8b5e-91237c805790",
   "metadata": {},
   "source": [
    "## 3、定义相似距离\n",
    "\n",
    "### DTW距离"
   ]
  },
  {
   "cell_type": "code",
   "execution_count": 16,
   "id": "7ede317a-3cee-4ec3-8379-7bf070eb09a7",
   "metadata": {},
   "outputs": [],
   "source": [
    "# DTW距离，时间复杂度为两个时间序列长度相乘\n",
    "def DTWDistance(s1, s2):\n",
    "    DTW = {}\n",
    "    s1_len = len(s1)\n",
    "    s2_len = len(s2)\n",
    "\n",
    "    \n",
    "# 先把路径矩阵设置为原始值，null。\n",
    "    for i in range(s1_len):\n",
    "        DTW[(i, -1)] = float('inf')\n",
    "\n",
    "    for i in range(s2_len):\n",
    "        DTW[(-1, i)] = float('inf')\n",
    "\n",
    "    DTW[(-1, -1)] = 0\n",
    "\n",
    "    \n",
    "# 计算DTW距离\n",
    "    for i in range(s1_len):\n",
    "        for j in range(s2_len):\n",
    "            dist = (s1[i] - s2[j]) ** 2\n",
    "            DTW[(i, j)] = dist + min(DTW[(i - 1, j)], DTW[(i, j - 1)],\n",
    "                                     DTW[(i - 1, j - 1)])\n",
    "\n",
    "    return math.sqrt(DTW[len(s1) - 1, len(s2) - 1])"
   ]
  },
  {
   "cell_type": "code",
   "execution_count": 17,
   "id": "bed8b9da-6f93-461e-ab09-77ee35f71c30",
   "metadata": {},
   "outputs": [
    {
     "name": "stdout",
     "output_type": "stream",
     "text": [
      "7.342240802370898\n",
      "5.392355700433717\n",
      "6.0862632213863375\n",
      "2.7587134682674086\n",
      "4.213241032744269\n",
      "9.60509760491792\n",
      "18.969301515870324\n",
      "18.099455792923717\n",
      "17.013897260768914\n",
      "3.1652961946712033\n",
      "7.3719264782009315\n",
      "27.167025968994103\n",
      "10.641809056734669\n",
      "20.903906333506185\n",
      "18.846763647905178\n",
      "22.00403372111578\n",
      "12.653793897483869\n",
      "12.654631563186657\n",
      "8.845970834227295\n",
      "4.63326019126921\n",
      "9.152578871553088\n",
      "8.2858011079195\n",
      "4.6924194185942065\n",
      "4.604704116444401\n",
      "3.0147802573322005\n",
      "3.2875674898015412\n",
      "3.6629359808765427\n",
      "5.72729430010367\n",
      "1.610217376629626\n",
      "1.0540398474441077\n",
      "1.6183324751113415\n",
      "2.723215011709505\n",
      "3.379807686836635\n",
      "3.741082730975085\n",
      "10.699499988317209\n",
      "12.978509159375742\n",
      "11.29591076452005\n",
      "23.149043176770824\n",
      "13.445084603675797\n",
      "3.0016662039607263\n",
      "6.737180419136776\n",
      "21.77178219622822\n"
     ]
    }
   ],
   "source": [
    "for i in range(42):\n",
    "    print(DTWDistance(WBCData[i], WBCData[i+1]))"
   ]
  },
  {
   "cell_type": "markdown",
   "id": "3cfd155d-944d-402d-afa0-29c9abaa2cfc",
   "metadata": {},
   "source": [
    "上面只是相邻的患者数据进行了计算DTW距离，实际上是需要两两取数来计算，那就是 $\\mathrm{C}_{43}^2 = \\frac {43!}{2! \\times (43-2)! } = \\frac {43 \\times 42}{2} = 903 $ 次，$O(n^2)$ 级复杂度。"
   ]
  },
  {
   "cell_type": "markdown",
   "id": "d1945b8b-f04c-4093-9ec0-13300fc97a32",
   "metadata": {},
   "source": [
    "### DTW_W距离"
   ]
  },
  {
   "cell_type": "code",
   "execution_count": 18,
   "id": "d567923d-1ab4-4f34-be6b-91594555b110",
   "metadata": {},
   "outputs": [],
   "source": [
    "# DTW_W距离, 优化后的算法，只检测前W个窗口的值。\n",
    "def DTWDistance_W(s1, s2, w):\n",
    "    DTW = {}\n",
    "    s1_len = len(s1)\n",
    "    s2_len = len(s2)\n",
    "    w = max(w, abs(s1_len - s2_len))\n",
    "\n",
    "# 和DTW函数里不同，另一种初始化路径矩阵的循环方法。\n",
    "    for i in range(-1, s1_len):\n",
    "        for j in range(-1, s2_len):\n",
    "            DTW[(i, j)] = float('inf')\n",
    "    DTW[(-1, -1)] = 0\n",
    "\n",
    "    for i in range(s1_len):\n",
    "        for j in range(max(0, i - w), min(s2_len, i + w)):\n",
    "            dist = (s1[i] - s2[j]) ** 2\n",
    "            DTW[(i, j)] = dist + min(DTW[(i - 1, j)], DTW[(i, j - 1)],\n",
    "                                     DTW[(i - 1, j - 1)])\n",
    "    return math.sqrt(DTW[s1_len - 1, s2_len - 1])"
   ]
  },
  {
   "cell_type": "code",
   "execution_count": 23,
   "id": "a0e0bf95-84b0-4fa8-b5a7-1ad1dbc8dc99",
   "metadata": {},
   "outputs": [
    {
     "name": "stdout",
     "output_type": "stream",
     "text": [
      "7.342240802370898\n",
      "5.392355700433717\n",
      "6.0862632213863375\n",
      "2.7587134682674086\n",
      "4.213241032744269\n",
      "9.60509760491792\n",
      "18.969301515870324\n",
      "18.099455792923717\n",
      "17.013897260768914\n",
      "3.1652961946712033\n",
      "7.3719264782009315\n",
      "27.167025968994103\n",
      "10.641809056734669\n",
      "20.942886620521058\n",
      "18.846763647905178\n",
      "22.00403372111578\n",
      "12.653793897483869\n",
      "12.654631563186657\n",
      "8.845970834227295\n",
      "4.63326019126921\n",
      "9.152578871553088\n",
      "8.2858011079195\n",
      "4.6924194185942065\n",
      "4.604704116444401\n",
      "3.0147802573322005\n",
      "3.2875674898015412\n",
      "3.6629359808765427\n",
      "5.72729430010367\n",
      "1.610217376629626\n",
      "1.0540398474441077\n",
      "1.6183324751113415\n",
      "2.723215011709505\n",
      "3.379807686836635\n",
      "3.741082730975085\n",
      "10.70584419838062\n",
      "12.978509159375742\n",
      "11.29591076452005\n",
      "23.149043176770824\n",
      "13.445084603675797\n",
      "3.0016662039607263\n",
      "6.7889910885197065\n",
      "21.849725398732133\n"
     ]
    }
   ],
   "source": [
    "for i in range(42):\n",
    "    # 第三个位置的参数，可以设置从2到30，越接近30，计算结果越接近 DTWDistance()。\n",
    "    print(DTWDistance_W(WBCData[i], WBCData[i+1], 20))  "
   ]
  },
  {
   "cell_type": "markdown",
   "id": "3e07ed29-1cd1-417b-ac3b-6542e96caa78",
   "metadata": {},
   "source": [
    "### LB_Keogh方法"
   ]
  },
  {
   "cell_type": "code",
   "execution_count": 20,
   "id": "5faa5321-0c29-4419-bf84-298f3f78e8fc",
   "metadata": {},
   "outputs": [],
   "source": [
    "def LB_Keogh(s1, s2, r):\n",
    "    LB_sum = 0\n",
    "    for ind, i in enumerate(s1):\n",
    "        # 找出下界\n",
    "        lower_bound = min(s2[(ind - r if ind - r >= 0 else 0):(ind + r)])\n",
    "        # 找出上界\n",
    "        upper_bound = max(s2[(ind - r if ind - r >= 0 else 0):(ind + r)])\n",
    "        if i >= upper_bound:  # 在上界之上，减去上界\n",
    "            LB_sum = LB_sum + (i - upper_bound)**2\n",
    "        elif i < lower_bound: # 在下界\n",
    "            LB_sum = LB_sum + (i - lower_bound)**2\n",
    "    return math.sqrt(LB_sum)"
   ]
  },
  {
   "cell_type": "code",
   "execution_count": 24,
   "id": "70d03356-1624-45a7-aea3-0734199c20d0",
   "metadata": {},
   "outputs": [
    {
     "name": "stdout",
     "output_type": "stream",
     "text": [
      "5.677657967859635\n",
      "5.6532645436066415\n",
      "6.497030090741461\n",
      "2.765592160821981\n",
      "4.565183457430819\n",
      "9.259433027999068\n",
      "14.571194185789986\n",
      "18.11362746663406\n",
      "15.552793961214812\n",
      "4.160108171670539\n",
      "8.364986551094988\n",
      "24.506315512536766\n",
      "9.809113109756662\n",
      "21.521754110666723\n",
      "17.459029182632122\n",
      "21.88255469546461\n",
      "12.058042958954823\n",
      "12.38466794064338\n",
      "7.6189894343016356\n",
      "5.8201632279516025\n",
      "6.913197523577638\n",
      "9.196869032447944\n",
      "3.9035368577739846\n",
      "4.687461999845972\n",
      "1.4308389147629452\n",
      "4.381905977996334\n",
      "3.4566891673970352\n",
      "7.671231974070396\n",
      "3.3827799218985555\n",
      "3.7793650260328127\n",
      "2.962262648719724\n",
      "5.510571658185746\n",
      "4.604291476438042\n",
      "5.277925728920406\n",
      "11.431666545171792\n",
      "11.921048611594536\n",
      "13.277469638451446\n",
      "22.100459271245924\n",
      "12.68531828532497\n",
      "3.2523991144999407\n",
      "8.343626309944616\n",
      "21.73032673477323\n"
     ]
    }
   ],
   "source": [
    "for i in range(42):\n",
    "    print(LB_Keogh(WBCData[i], WBCData[i+1], 2)) "
   ]
  },
  {
   "cell_type": "code",
   "execution_count": null,
   "id": "fd55e227-a4f0-48b4-94fb-8b78d3a54d62",
   "metadata": {},
   "outputs": [],
   "source": []
  }
 ],
 "metadata": {
  "kernelspec": {
   "display_name": "Python 3 (ipykernel)",
   "language": "python",
   "name": "python3"
  },
  "language_info": {
   "codemirror_mode": {
    "name": "ipython",
    "version": 3
   },
   "file_extension": ".py",
   "mimetype": "text/x-python",
   "name": "python",
   "nbconvert_exporter": "python",
   "pygments_lexer": "ipython3",
   "version": "3.8.12"
  }
 },
 "nbformat": 4,
 "nbformat_minor": 5
}
